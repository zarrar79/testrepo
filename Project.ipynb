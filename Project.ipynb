{
 "cells": [
  {
   "cell_type": "code",
   "execution_count": 123,
   "id": "f9f1492b",
   "metadata": {},
   "outputs": [
    {
     "name": "stdout",
     "output_type": "stream",
     "text": [
      "Requirement already satisfied: nbformat in d:\\ananaconda\\lib\\site-packages (4.2.0)\n",
      "Collecting nbformat\n",
      "  Obtaining dependency information for nbformat from https://files.pythonhosted.org/packages/f4/e7/ef30a90b70eba39e675689b9eaaa92530a71d7435ab8f9cae520814e0caf/nbformat-5.9.2-py3-none-any.whl.metadata\n",
      "  Downloading nbformat-5.9.2-py3-none-any.whl.metadata (3.4 kB)\n",
      "Requirement already satisfied: fastjsonschema in d:\\ananaconda\\lib\\site-packages (from nbformat) (2.16.2)\n",
      "Requirement already satisfied: jsonschema>=2.6 in d:\\ananaconda\\lib\\site-packages (from nbformat) (4.17.3)\n",
      "Requirement already satisfied: jupyter-core in d:\\ananaconda\\lib\\site-packages (from nbformat) (5.3.0)\n",
      "Requirement already satisfied: traitlets>=5.1 in d:\\ananaconda\\lib\\site-packages (from nbformat) (5.7.1)\n",
      "Requirement already satisfied: attrs>=17.4.0 in d:\\ananaconda\\lib\\site-packages (from jsonschema>=2.6->nbformat) (22.1.0)\n",
      "Requirement already satisfied: pyrsistent!=0.17.0,!=0.17.1,!=0.17.2,>=0.14.0 in d:\\ananaconda\\lib\\site-packages (from jsonschema>=2.6->nbformat) (0.18.0)\n",
      "Requirement already satisfied: platformdirs>=2.5 in d:\\ananaconda\\lib\\site-packages (from jupyter-core->nbformat) (2.5.2)\n",
      "Requirement already satisfied: pywin32>=300 in d:\\ananaconda\\lib\\site-packages (from jupyter-core->nbformat) (305.1)\n",
      "Downloading nbformat-5.9.2-py3-none-any.whl (77 kB)\n",
      "   ---------------------------------------- 0.0/77.6 kB ? eta -:--:--\n",
      "   ---------------------------------------- 0.0/77.6 kB ? eta -:--:--\n",
      "   ---------------------------------------- 0.0/77.6 kB ? eta -:--:--\n",
      "   ---------------------------------------- 0.0/77.6 kB ? eta -:--:--\n",
      "   ---------------------------------------- 0.0/77.6 kB ? eta -:--:--\n",
      "   ----- ---------------------------------- 10.2/77.6 kB ? eta -:--:--\n",
      "   ----- ---------------------------------- 10.2/77.6 kB ? eta -:--:--\n",
      "   ----- ---------------------------------- 10.2/77.6 kB ? eta -:--:--\n",
      "   ----- ---------------------------------- 10.2/77.6 kB ? eta -:--:--\n",
      "   --------------- ------------------------ 30.7/77.6 kB 131.3 kB/s eta 0:00:01\n",
      "   --------------- ------------------------ 30.7/77.6 kB 131.3 kB/s eta 0:00:01\n",
      "   --------------- ------------------------ 30.7/77.6 kB 131.3 kB/s eta 0:00:01\n",
      "   --------------- ------------------------ 30.7/77.6 kB 131.3 kB/s eta 0:00:01\n",
      "   --------------------- ------------------ 41.0/77.6 kB 89.3 kB/s eta 0:00:01\n",
      "   --------------------- ------------------ 41.0/77.6 kB 89.3 kB/s eta 0:00:01\n",
      "   ------------------------------------ --- 71.7/77.6 kB 131.0 kB/s eta 0:00:01\n",
      "   ---------------------------------------- 77.6/77.6 kB 134.7 kB/s eta 0:00:00\n",
      "Installing collected packages: nbformat\n",
      "  Attempting uninstall: nbformat\n",
      "    Found existing installation: nbformat 4.2.0\n",
      "    Uninstalling nbformat-4.2.0:\n",
      "      Successfully uninstalled nbformat-4.2.0\n",
      "Successfully installed nbformat-5.9.2\n"
     ]
    },
    {
     "name": "stderr",
     "output_type": "stream",
     "text": [
      "ERROR: pip's dependency resolver does not currently take into account all the packages that are installed. This behaviour is the source of the following dependency conflicts.\n",
      "conda-repo-cli 1.0.41 requires requests_mock, which is not installed.\n",
      "conda-repo-cli 1.0.41 requires clyent==1.2.1, but you have clyent 1.2.2 which is incompatible.\n",
      "conda-repo-cli 1.0.41 requires nbformat==5.4.0, but you have nbformat 5.9.2 which is incompatible.\n",
      "conda-repo-cli 1.0.41 requires requests==2.28.1, but you have requests 2.26.0 which is incompatible.\n"
     ]
    }
   ],
   "source": [
    "!pip install --upgrade nbformat"
   ]
  },
  {
   "cell_type": "code",
   "execution_count": 16,
   "id": "0762787f",
   "metadata": {},
   "outputs": [],
   "source": [
    "import yfinance as yf\n",
    "import pandas as pd\n",
    "from bs4 import BeautifulSoup\n",
    "import plotly.graph_objects as go\n",
    "from plotly.subplots import make_subplots"
   ]
  },
  {
   "cell_type": "code",
   "execution_count": 4,
   "id": "b46b4e77",
   "metadata": {},
   "outputs": [
    {
     "name": "stdout",
     "output_type": "stream",
     "text": [
      "\n",
      "Saved under apple.json\n"
     ]
    }
   ],
   "source": [
    "import yfinance as yf\n",
    "import pandas as pd\n",
    "\n",
    "!python -m wget https://cf-courses-data.s3.us.cloud-object-storage.appdomain.cloud/IBMDeveloperSkillsNetwork-PY0220EN-SkillsNetwork/data/apple.json    "
   ]
  },
  {
   "cell_type": "code",
   "execution_count": 8,
   "id": "7ad4ff7f",
   "metadata": {},
   "outputs": [
    {
     "name": "stdout",
     "output_type": "stream",
     "text": [
      "Type:  <class 'dict'>\n"
     ]
    }
   ],
   "source": [
    "import json\n",
    "with open('apple.json') as json_file:\n",
    "    file_info = json.load(json_file)\n",
    "    print(\"Type: \",type(file_info))\n",
    "   "
   ]
  },
  {
   "cell_type": "code",
   "execution_count": null,
   "id": "1e2efa3e",
   "metadata": {},
   "outputs": [],
   "source": [
    "class graph:\n",
    "    def make_graph(stock_data, revenue_data, stock):\n",
    "        fig = make_subplots(rows=2, cols=1, shared_xaxes=True, subplot_titles=(\"Historical Share Price\", \"Historical Revenue\"), vertical_spacing = .3)\n",
    "        stock_data_specific = stock_data[stock_data.Date <= '2021--06-14']\n",
    "        revenue_data_specific = revenue_data[revenue_data.Date <= '2021-04-30']\n",
    "        fig.add_trace(go.Scatter(x=pd.to_datetime(stock_data_specific.Date, infer_datetime_format=True), y=stock_data_specific.Close.astype(\"float\"), name=\"Share Price\"), row=1, col=1)\n",
    "        fig.add_trace(go.Scatter(x=pd.to_datetime(revenue_data_specific.Date, infer_datetime_format=True), y=revenue_data_specific.Revenue.astype(\"float\"), name=\"Revenue\"), row=2, col=1)\n",
    "        fig.update_xaxes(title_text=\"Date\", row=1, col=1)\n",
    "        fig.update_xaxes(title_text=\"Date\", row=2, col=1)\n",
    "        fig.update_yaxes(title_text=\"Price ($US)\", row=1, col=1)\n",
    "        fig.update_yaxes(title_text=\"Revenue ($US Millions)\", row=2, col=1)\n",
    "        fig.update_layout(showlegend=False,\n",
    "        height=900,\n",
    "        title=stock,\n",
    "        xaxis_rangeslider_visible=True)\n",
    "        fig.show()"
   ]
  },
  {
   "cell_type": "code",
   "execution_count": 9,
   "id": "3fa2faf6",
   "metadata": {},
   "outputs": [
    {
     "data": {
      "text/plain": [
       "'United States'"
      ]
     },
     "execution_count": 9,
     "metadata": {},
     "output_type": "execute_result"
    }
   ],
   "source": [
    "file_info['country']"
   ]
  },
  {
   "cell_type": "code",
   "execution_count": 15,
   "id": "e8693fea",
   "metadata": {},
   "outputs": [
    {
     "name": "stdout",
     "output_type": "stream",
     "text": [
      "Got error from yahoo api for ticker APPLE, Error: {'code': 'Not Found', 'description': 'No data found, symbol may be delisted'}\n",
      "- APPLE: No timezone found, symbol may be delisted\n"
     ]
    }
   ],
   "source": [
    " apple = yf.Ticker(\"\")\n",
    "historyApple = apple.history(period=\"max\")"
   ]
  },
  {
   "cell_type": "code",
   "execution_count": 16,
   "id": "2d035af3",
   "metadata": {},
   "outputs": [
    {
     "name": "stdout",
     "output_type": "stream",
     "text": [
      "\n",
      "Saved under amd.json\n"
     ]
    }
   ],
   "source": [
    "!python -m wget https://cf-courses-data.s3.us.cloud-object-storage.appdomain.cloud/IBMDeveloperSkillsNetwork-PY0220EN-SkillsNetwork/data/amd.json"
   ]
  },
  {
   "cell_type": "code",
   "execution_count": 23,
   "id": "209aa37e",
   "metadata": {},
   "outputs": [
    {
     "name": "stdout",
     "output_type": "stream",
     "text": [
      "Type:  <class 'dict'>\n",
      "AMD: No data found for this date range, symbol may be delisted\n"
     ]
    }
   ],
   "source": [
    "amd = yf.Ticker(\"AMD\")\n",
    "with open ('amd.json') as json_File:\n",
    "    data = json.load(json_File)\n",
    "    print(\"Type: \",type(data))\n",
    "    #amd.history(period=\"max\")"
   ]
  },
  {
   "cell_type": "code",
   "execution_count": 32,
   "id": "27810a2e",
   "metadata": {},
   "outputs": [
    {
     "data": {
      "text/html": [
       "<div>\n",
       "<style scoped>\n",
       "    .dataframe tbody tr th:only-of-type {\n",
       "        vertical-align: middle;\n",
       "    }\n",
       "\n",
       "    .dataframe tbody tr th {\n",
       "        vertical-align: top;\n",
       "    }\n",
       "\n",
       "    .dataframe thead th {\n",
       "        text-align: right;\n",
       "    }\n",
       "</style>\n",
       "<table border=\"1\" class=\"dataframe\">\n",
       "  <thead>\n",
       "    <tr style=\"text-align: right;\">\n",
       "      <th></th>\n",
       "      <th>Open</th>\n",
       "      <th>High</th>\n",
       "      <th>Low</th>\n",
       "      <th>Close</th>\n",
       "      <th>Volume</th>\n",
       "      <th>Dividends</th>\n",
       "      <th>Stock Splits</th>\n",
       "    </tr>\n",
       "    <tr>\n",
       "      <th>Date</th>\n",
       "      <th></th>\n",
       "      <th></th>\n",
       "      <th></th>\n",
       "      <th></th>\n",
       "      <th></th>\n",
       "      <th></th>\n",
       "      <th></th>\n",
       "    </tr>\n",
       "  </thead>\n",
       "  <tbody>\n",
       "    <tr>\n",
       "      <th>2023-09-07 00:00:00-04:00</th>\n",
       "      <td>106.139999</td>\n",
       "      <td>107.690002</td>\n",
       "      <td>105.089996</td>\n",
       "      <td>106.589996</td>\n",
       "      <td>49040600</td>\n",
       "      <td>0.0</td>\n",
       "      <td>0.0</td>\n",
       "    </tr>\n",
       "  </tbody>\n",
       "</table>\n",
       "</div>"
      ],
      "text/plain": [
       "                                 Open        High         Low       Close  \\\n",
       "Date                                                                        \n",
       "2023-09-07 00:00:00-04:00  106.139999  107.690002  105.089996  106.589996   \n",
       "\n",
       "                             Volume  Dividends  Stock Splits  \n",
       "Date                                                          \n",
       "2023-09-07 00:00:00-04:00  49040600        0.0           0.0  "
      ]
     },
     "execution_count": 32,
     "metadata": {},
     "output_type": "execute_result"
    }
   ],
   "source": [
    "data['country']\n",
    "data['sector']\n",
    "amd.history(period=\"max\")\n",
    "amd.history(period=\"1d\")"
   ]
  },
  {
   "cell_type": "code",
   "execution_count": 7,
   "id": "6d2f60a2",
   "metadata": {},
   "outputs": [
    {
     "name": "stderr",
     "output_type": "stream",
     "text": [
      "C:\\Users\\ZARRAR-SHAH\\AppData\\Local\\Temp\\ipykernel_12096\\4258970918.py:19: FutureWarning: The frame.append method is deprecated and will be removed from pandas in a future version. Use pandas.concat instead.\n",
      "  amazon_data = amazon_data.append({\"Date\":[date], \"Open\":[Open], \"High\":[high], \"Low\":[low], \"Close\":[close], \"Adj Close\":[adj_close], \"Volume\":[volume]}, ignore_index=True)\n",
      "C:\\Users\\ZARRAR-SHAH\\AppData\\Local\\Temp\\ipykernel_12096\\4258970918.py:19: FutureWarning: The frame.append method is deprecated and will be removed from pandas in a future version. Use pandas.concat instead.\n",
      "  amazon_data = amazon_data.append({\"Date\":[date], \"Open\":[Open], \"High\":[high], \"Low\":[low], \"Close\":[close], \"Adj Close\":[adj_close], \"Volume\":[volume]}, ignore_index=True)\n",
      "C:\\Users\\ZARRAR-SHAH\\AppData\\Local\\Temp\\ipykernel_12096\\4258970918.py:19: FutureWarning: The frame.append method is deprecated and will be removed from pandas in a future version. Use pandas.concat instead.\n",
      "  amazon_data = amazon_data.append({\"Date\":[date], \"Open\":[Open], \"High\":[high], \"Low\":[low], \"Close\":[close], \"Adj Close\":[adj_close], \"Volume\":[volume]}, ignore_index=True)\n",
      "C:\\Users\\ZARRAR-SHAH\\AppData\\Local\\Temp\\ipykernel_12096\\4258970918.py:19: FutureWarning: The frame.append method is deprecated and will be removed from pandas in a future version. Use pandas.concat instead.\n",
      "  amazon_data = amazon_data.append({\"Date\":[date], \"Open\":[Open], \"High\":[high], \"Low\":[low], \"Close\":[close], \"Adj Close\":[adj_close], \"Volume\":[volume]}, ignore_index=True)\n",
      "C:\\Users\\ZARRAR-SHAH\\AppData\\Local\\Temp\\ipykernel_12096\\4258970918.py:19: FutureWarning: The frame.append method is deprecated and will be removed from pandas in a future version. Use pandas.concat instead.\n",
      "  amazon_data = amazon_data.append({\"Date\":[date], \"Open\":[Open], \"High\":[high], \"Low\":[low], \"Close\":[close], \"Adj Close\":[adj_close], \"Volume\":[volume]}, ignore_index=True)\n",
      "C:\\Users\\ZARRAR-SHAH\\AppData\\Local\\Temp\\ipykernel_12096\\4258970918.py:19: FutureWarning: The frame.append method is deprecated and will be removed from pandas in a future version. Use pandas.concat instead.\n",
      "  amazon_data = amazon_data.append({\"Date\":[date], \"Open\":[Open], \"High\":[high], \"Low\":[low], \"Close\":[close], \"Adj Close\":[adj_close], \"Volume\":[volume]}, ignore_index=True)\n",
      "C:\\Users\\ZARRAR-SHAH\\AppData\\Local\\Temp\\ipykernel_12096\\4258970918.py:19: FutureWarning: The frame.append method is deprecated and will be removed from pandas in a future version. Use pandas.concat instead.\n",
      "  amazon_data = amazon_data.append({\"Date\":[date], \"Open\":[Open], \"High\":[high], \"Low\":[low], \"Close\":[close], \"Adj Close\":[adj_close], \"Volume\":[volume]}, ignore_index=True)\n",
      "C:\\Users\\ZARRAR-SHAH\\AppData\\Local\\Temp\\ipykernel_12096\\4258970918.py:19: FutureWarning: The frame.append method is deprecated and will be removed from pandas in a future version. Use pandas.concat instead.\n",
      "  amazon_data = amazon_data.append({\"Date\":[date], \"Open\":[Open], \"High\":[high], \"Low\":[low], \"Close\":[close], \"Adj Close\":[adj_close], \"Volume\":[volume]}, ignore_index=True)\n",
      "C:\\Users\\ZARRAR-SHAH\\AppData\\Local\\Temp\\ipykernel_12096\\4258970918.py:19: FutureWarning: The frame.append method is deprecated and will be removed from pandas in a future version. Use pandas.concat instead.\n",
      "  amazon_data = amazon_data.append({\"Date\":[date], \"Open\":[Open], \"High\":[high], \"Low\":[low], \"Close\":[close], \"Adj Close\":[adj_close], \"Volume\":[volume]}, ignore_index=True)\n",
      "C:\\Users\\ZARRAR-SHAH\\AppData\\Local\\Temp\\ipykernel_12096\\4258970918.py:19: FutureWarning: The frame.append method is deprecated and will be removed from pandas in a future version. Use pandas.concat instead.\n",
      "  amazon_data = amazon_data.append({\"Date\":[date], \"Open\":[Open], \"High\":[high], \"Low\":[low], \"Close\":[close], \"Adj Close\":[adj_close], \"Volume\":[volume]}, ignore_index=True)\n",
      "C:\\Users\\ZARRAR-SHAH\\AppData\\Local\\Temp\\ipykernel_12096\\4258970918.py:19: FutureWarning: The frame.append method is deprecated and will be removed from pandas in a future version. Use pandas.concat instead.\n",
      "  amazon_data = amazon_data.append({\"Date\":[date], \"Open\":[Open], \"High\":[high], \"Low\":[low], \"Close\":[close], \"Adj Close\":[adj_close], \"Volume\":[volume]}, ignore_index=True)\n",
      "C:\\Users\\ZARRAR-SHAH\\AppData\\Local\\Temp\\ipykernel_12096\\4258970918.py:19: FutureWarning: The frame.append method is deprecated and will be removed from pandas in a future version. Use pandas.concat instead.\n",
      "  amazon_data = amazon_data.append({\"Date\":[date], \"Open\":[Open], \"High\":[high], \"Low\":[low], \"Close\":[close], \"Adj Close\":[adj_close], \"Volume\":[volume]}, ignore_index=True)\n",
      "C:\\Users\\ZARRAR-SHAH\\AppData\\Local\\Temp\\ipykernel_12096\\4258970918.py:19: FutureWarning: The frame.append method is deprecated and will be removed from pandas in a future version. Use pandas.concat instead.\n",
      "  amazon_data = amazon_data.append({\"Date\":[date], \"Open\":[Open], \"High\":[high], \"Low\":[low], \"Close\":[close], \"Adj Close\":[adj_close], \"Volume\":[volume]}, ignore_index=True)\n",
      "C:\\Users\\ZARRAR-SHAH\\AppData\\Local\\Temp\\ipykernel_12096\\4258970918.py:19: FutureWarning: The frame.append method is deprecated and will be removed from pandas in a future version. Use pandas.concat instead.\n",
      "  amazon_data = amazon_data.append({\"Date\":[date], \"Open\":[Open], \"High\":[high], \"Low\":[low], \"Close\":[close], \"Adj Close\":[adj_close], \"Volume\":[volume]}, ignore_index=True)\n",
      "C:\\Users\\ZARRAR-SHAH\\AppData\\Local\\Temp\\ipykernel_12096\\4258970918.py:19: FutureWarning: The frame.append method is deprecated and will be removed from pandas in a future version. Use pandas.concat instead.\n",
      "  amazon_data = amazon_data.append({\"Date\":[date], \"Open\":[Open], \"High\":[high], \"Low\":[low], \"Close\":[close], \"Adj Close\":[adj_close], \"Volume\":[volume]}, ignore_index=True)\n",
      "C:\\Users\\ZARRAR-SHAH\\AppData\\Local\\Temp\\ipykernel_12096\\4258970918.py:19: FutureWarning: The frame.append method is deprecated and will be removed from pandas in a future version. Use pandas.concat instead.\n",
      "  amazon_data = amazon_data.append({\"Date\":[date], \"Open\":[Open], \"High\":[high], \"Low\":[low], \"Close\":[close], \"Adj Close\":[adj_close], \"Volume\":[volume]}, ignore_index=True)\n",
      "C:\\Users\\ZARRAR-SHAH\\AppData\\Local\\Temp\\ipykernel_12096\\4258970918.py:19: FutureWarning: The frame.append method is deprecated and will be removed from pandas in a future version. Use pandas.concat instead.\n",
      "  amazon_data = amazon_data.append({\"Date\":[date], \"Open\":[Open], \"High\":[high], \"Low\":[low], \"Close\":[close], \"Adj Close\":[adj_close], \"Volume\":[volume]}, ignore_index=True)\n",
      "C:\\Users\\ZARRAR-SHAH\\AppData\\Local\\Temp\\ipykernel_12096\\4258970918.py:19: FutureWarning: The frame.append method is deprecated and will be removed from pandas in a future version. Use pandas.concat instead.\n",
      "  amazon_data = amazon_data.append({\"Date\":[date], \"Open\":[Open], \"High\":[high], \"Low\":[low], \"Close\":[close], \"Adj Close\":[adj_close], \"Volume\":[volume]}, ignore_index=True)\n",
      "C:\\Users\\ZARRAR-SHAH\\AppData\\Local\\Temp\\ipykernel_12096\\4258970918.py:19: FutureWarning: The frame.append method is deprecated and will be removed from pandas in a future version. Use pandas.concat instead.\n",
      "  amazon_data = amazon_data.append({\"Date\":[date], \"Open\":[Open], \"High\":[high], \"Low\":[low], \"Close\":[close], \"Adj Close\":[adj_close], \"Volume\":[volume]}, ignore_index=True)\n",
      "C:\\Users\\ZARRAR-SHAH\\AppData\\Local\\Temp\\ipykernel_12096\\4258970918.py:19: FutureWarning: The frame.append method is deprecated and will be removed from pandas in a future version. Use pandas.concat instead.\n",
      "  amazon_data = amazon_data.append({\"Date\":[date], \"Open\":[Open], \"High\":[high], \"Low\":[low], \"Close\":[close], \"Adj Close\":[adj_close], \"Volume\":[volume]}, ignore_index=True)\n",
      "C:\\Users\\ZARRAR-SHAH\\AppData\\Local\\Temp\\ipykernel_12096\\4258970918.py:19: FutureWarning: The frame.append method is deprecated and will be removed from pandas in a future version. Use pandas.concat instead.\n",
      "  amazon_data = amazon_data.append({\"Date\":[date], \"Open\":[Open], \"High\":[high], \"Low\":[low], \"Close\":[close], \"Adj Close\":[adj_close], \"Volume\":[volume]}, ignore_index=True)\n",
      "C:\\Users\\ZARRAR-SHAH\\AppData\\Local\\Temp\\ipykernel_12096\\4258970918.py:19: FutureWarning: The frame.append method is deprecated and will be removed from pandas in a future version. Use pandas.concat instead.\n",
      "  amazon_data = amazon_data.append({\"Date\":[date], \"Open\":[Open], \"High\":[high], \"Low\":[low], \"Close\":[close], \"Adj Close\":[adj_close], \"Volume\":[volume]}, ignore_index=True)\n",
      "C:\\Users\\ZARRAR-SHAH\\AppData\\Local\\Temp\\ipykernel_12096\\4258970918.py:19: FutureWarning: The frame.append method is deprecated and will be removed from pandas in a future version. Use pandas.concat instead.\n",
      "  amazon_data = amazon_data.append({\"Date\":[date], \"Open\":[Open], \"High\":[high], \"Low\":[low], \"Close\":[close], \"Adj Close\":[adj_close], \"Volume\":[volume]}, ignore_index=True)\n",
      "C:\\Users\\ZARRAR-SHAH\\AppData\\Local\\Temp\\ipykernel_12096\\4258970918.py:19: FutureWarning: The frame.append method is deprecated and will be removed from pandas in a future version. Use pandas.concat instead.\n",
      "  amazon_data = amazon_data.append({\"Date\":[date], \"Open\":[Open], \"High\":[high], \"Low\":[low], \"Close\":[close], \"Adj Close\":[adj_close], \"Volume\":[volume]}, ignore_index=True)\n",
      "C:\\Users\\ZARRAR-SHAH\\AppData\\Local\\Temp\\ipykernel_12096\\4258970918.py:19: FutureWarning: The frame.append method is deprecated and will be removed from pandas in a future version. Use pandas.concat instead.\n",
      "  amazon_data = amazon_data.append({\"Date\":[date], \"Open\":[Open], \"High\":[high], \"Low\":[low], \"Close\":[close], \"Adj Close\":[adj_close], \"Volume\":[volume]}, ignore_index=True)\n",
      "C:\\Users\\ZARRAR-SHAH\\AppData\\Local\\Temp\\ipykernel_12096\\4258970918.py:19: FutureWarning: The frame.append method is deprecated and will be removed from pandas in a future version. Use pandas.concat instead.\n",
      "  amazon_data = amazon_data.append({\"Date\":[date], \"Open\":[Open], \"High\":[high], \"Low\":[low], \"Close\":[close], \"Adj Close\":[adj_close], \"Volume\":[volume]}, ignore_index=True)\n",
      "C:\\Users\\ZARRAR-SHAH\\AppData\\Local\\Temp\\ipykernel_12096\\4258970918.py:19: FutureWarning: The frame.append method is deprecated and will be removed from pandas in a future version. Use pandas.concat instead.\n",
      "  amazon_data = amazon_data.append({\"Date\":[date], \"Open\":[Open], \"High\":[high], \"Low\":[low], \"Close\":[close], \"Adj Close\":[adj_close], \"Volume\":[volume]}, ignore_index=True)\n",
      "C:\\Users\\ZARRAR-SHAH\\AppData\\Local\\Temp\\ipykernel_12096\\4258970918.py:19: FutureWarning: The frame.append method is deprecated and will be removed from pandas in a future version. Use pandas.concat instead.\n",
      "  amazon_data = amazon_data.append({\"Date\":[date], \"Open\":[Open], \"High\":[high], \"Low\":[low], \"Close\":[close], \"Adj Close\":[adj_close], \"Volume\":[volume]}, ignore_index=True)\n",
      "C:\\Users\\ZARRAR-SHAH\\AppData\\Local\\Temp\\ipykernel_12096\\4258970918.py:19: FutureWarning: The frame.append method is deprecated and will be removed from pandas in a future version. Use pandas.concat instead.\n",
      "  amazon_data = amazon_data.append({\"Date\":[date], \"Open\":[Open], \"High\":[high], \"Low\":[low], \"Close\":[close], \"Adj Close\":[adj_close], \"Volume\":[volume]}, ignore_index=True)\n",
      "C:\\Users\\ZARRAR-SHAH\\AppData\\Local\\Temp\\ipykernel_12096\\4258970918.py:19: FutureWarning: The frame.append method is deprecated and will be removed from pandas in a future version. Use pandas.concat instead.\n",
      "  amazon_data = amazon_data.append({\"Date\":[date], \"Open\":[Open], \"High\":[high], \"Low\":[low], \"Close\":[close], \"Adj Close\":[adj_close], \"Volume\":[volume]}, ignore_index=True)\n",
      "C:\\Users\\ZARRAR-SHAH\\AppData\\Local\\Temp\\ipykernel_12096\\4258970918.py:19: FutureWarning: The frame.append method is deprecated and will be removed from pandas in a future version. Use pandas.concat instead.\n",
      "  amazon_data = amazon_data.append({\"Date\":[date], \"Open\":[Open], \"High\":[high], \"Low\":[low], \"Close\":[close], \"Adj Close\":[adj_close], \"Volume\":[volume]}, ignore_index=True)\n",
      "C:\\Users\\ZARRAR-SHAH\\AppData\\Local\\Temp\\ipykernel_12096\\4258970918.py:19: FutureWarning: The frame.append method is deprecated and will be removed from pandas in a future version. Use pandas.concat instead.\n",
      "  amazon_data = amazon_data.append({\"Date\":[date], \"Open\":[Open], \"High\":[high], \"Low\":[low], \"Close\":[close], \"Adj Close\":[adj_close], \"Volume\":[volume]}, ignore_index=True)\n",
      "C:\\Users\\ZARRAR-SHAH\\AppData\\Local\\Temp\\ipykernel_12096\\4258970918.py:19: FutureWarning: The frame.append method is deprecated and will be removed from pandas in a future version. Use pandas.concat instead.\n",
      "  amazon_data = amazon_data.append({\"Date\":[date], \"Open\":[Open], \"High\":[high], \"Low\":[low], \"Close\":[close], \"Adj Close\":[adj_close], \"Volume\":[volume]}, ignore_index=True)\n",
      "C:\\Users\\ZARRAR-SHAH\\AppData\\Local\\Temp\\ipykernel_12096\\4258970918.py:19: FutureWarning: The frame.append method is deprecated and will be removed from pandas in a future version. Use pandas.concat instead.\n",
      "  amazon_data = amazon_data.append({\"Date\":[date], \"Open\":[Open], \"High\":[high], \"Low\":[low], \"Close\":[close], \"Adj Close\":[adj_close], \"Volume\":[volume]}, ignore_index=True)\n",
      "C:\\Users\\ZARRAR-SHAH\\AppData\\Local\\Temp\\ipykernel_12096\\4258970918.py:19: FutureWarning: The frame.append method is deprecated and will be removed from pandas in a future version. Use pandas.concat instead.\n",
      "  amazon_data = amazon_data.append({\"Date\":[date], \"Open\":[Open], \"High\":[high], \"Low\":[low], \"Close\":[close], \"Adj Close\":[adj_close], \"Volume\":[volume]}, ignore_index=True)\n",
      "C:\\Users\\ZARRAR-SHAH\\AppData\\Local\\Temp\\ipykernel_12096\\4258970918.py:19: FutureWarning: The frame.append method is deprecated and will be removed from pandas in a future version. Use pandas.concat instead.\n",
      "  amazon_data = amazon_data.append({\"Date\":[date], \"Open\":[Open], \"High\":[high], \"Low\":[low], \"Close\":[close], \"Adj Close\":[adj_close], \"Volume\":[volume]}, ignore_index=True)\n",
      "C:\\Users\\ZARRAR-SHAH\\AppData\\Local\\Temp\\ipykernel_12096\\4258970918.py:19: FutureWarning: The frame.append method is deprecated and will be removed from pandas in a future version. Use pandas.concat instead.\n",
      "  amazon_data = amazon_data.append({\"Date\":[date], \"Open\":[Open], \"High\":[high], \"Low\":[low], \"Close\":[close], \"Adj Close\":[adj_close], \"Volume\":[volume]}, ignore_index=True)\n",
      "C:\\Users\\ZARRAR-SHAH\\AppData\\Local\\Temp\\ipykernel_12096\\4258970918.py:19: FutureWarning: The frame.append method is deprecated and will be removed from pandas in a future version. Use pandas.concat instead.\n",
      "  amazon_data = amazon_data.append({\"Date\":[date], \"Open\":[Open], \"High\":[high], \"Low\":[low], \"Close\":[close], \"Adj Close\":[adj_close], \"Volume\":[volume]}, ignore_index=True)\n",
      "C:\\Users\\ZARRAR-SHAH\\AppData\\Local\\Temp\\ipykernel_12096\\4258970918.py:19: FutureWarning: The frame.append method is deprecated and will be removed from pandas in a future version. Use pandas.concat instead.\n",
      "  amazon_data = amazon_data.append({\"Date\":[date], \"Open\":[Open], \"High\":[high], \"Low\":[low], \"Close\":[close], \"Adj Close\":[adj_close], \"Volume\":[volume]}, ignore_index=True)\n",
      "C:\\Users\\ZARRAR-SHAH\\AppData\\Local\\Temp\\ipykernel_12096\\4258970918.py:19: FutureWarning: The frame.append method is deprecated and will be removed from pandas in a future version. Use pandas.concat instead.\n",
      "  amazon_data = amazon_data.append({\"Date\":[date], \"Open\":[Open], \"High\":[high], \"Low\":[low], \"Close\":[close], \"Adj Close\":[adj_close], \"Volume\":[volume]}, ignore_index=True)\n",
      "C:\\Users\\ZARRAR-SHAH\\AppData\\Local\\Temp\\ipykernel_12096\\4258970918.py:19: FutureWarning: The frame.append method is deprecated and will be removed from pandas in a future version. Use pandas.concat instead.\n",
      "  amazon_data = amazon_data.append({\"Date\":[date], \"Open\":[Open], \"High\":[high], \"Low\":[low], \"Close\":[close], \"Adj Close\":[adj_close], \"Volume\":[volume]}, ignore_index=True)\n",
      "C:\\Users\\ZARRAR-SHAH\\AppData\\Local\\Temp\\ipykernel_12096\\4258970918.py:19: FutureWarning: The frame.append method is deprecated and will be removed from pandas in a future version. Use pandas.concat instead.\n",
      "  amazon_data = amazon_data.append({\"Date\":[date], \"Open\":[Open], \"High\":[high], \"Low\":[low], \"Close\":[close], \"Adj Close\":[adj_close], \"Volume\":[volume]}, ignore_index=True)\n",
      "C:\\Users\\ZARRAR-SHAH\\AppData\\Local\\Temp\\ipykernel_12096\\4258970918.py:19: FutureWarning: The frame.append method is deprecated and will be removed from pandas in a future version. Use pandas.concat instead.\n",
      "  amazon_data = amazon_data.append({\"Date\":[date], \"Open\":[Open], \"High\":[high], \"Low\":[low], \"Close\":[close], \"Adj Close\":[adj_close], \"Volume\":[volume]}, ignore_index=True)\n",
      "C:\\Users\\ZARRAR-SHAH\\AppData\\Local\\Temp\\ipykernel_12096\\4258970918.py:19: FutureWarning: The frame.append method is deprecated and will be removed from pandas in a future version. Use pandas.concat instead.\n",
      "  amazon_data = amazon_data.append({\"Date\":[date], \"Open\":[Open], \"High\":[high], \"Low\":[low], \"Close\":[close], \"Adj Close\":[adj_close], \"Volume\":[volume]}, ignore_index=True)\n",
      "C:\\Users\\ZARRAR-SHAH\\AppData\\Local\\Temp\\ipykernel_12096\\4258970918.py:19: FutureWarning: The frame.append method is deprecated and will be removed from pandas in a future version. Use pandas.concat instead.\n",
      "  amazon_data = amazon_data.append({\"Date\":[date], \"Open\":[Open], \"High\":[high], \"Low\":[low], \"Close\":[close], \"Adj Close\":[adj_close], \"Volume\":[volume]}, ignore_index=True)\n",
      "C:\\Users\\ZARRAR-SHAH\\AppData\\Local\\Temp\\ipykernel_12096\\4258970918.py:19: FutureWarning: The frame.append method is deprecated and will be removed from pandas in a future version. Use pandas.concat instead.\n",
      "  amazon_data = amazon_data.append({\"Date\":[date], \"Open\":[Open], \"High\":[high], \"Low\":[low], \"Close\":[close], \"Adj Close\":[adj_close], \"Volume\":[volume]}, ignore_index=True)\n",
      "C:\\Users\\ZARRAR-SHAH\\AppData\\Local\\Temp\\ipykernel_12096\\4258970918.py:19: FutureWarning: The frame.append method is deprecated and will be removed from pandas in a future version. Use pandas.concat instead.\n",
      "  amazon_data = amazon_data.append({\"Date\":[date], \"Open\":[Open], \"High\":[high], \"Low\":[low], \"Close\":[close], \"Adj Close\":[adj_close], \"Volume\":[volume]}, ignore_index=True)\n",
      "C:\\Users\\ZARRAR-SHAH\\AppData\\Local\\Temp\\ipykernel_12096\\4258970918.py:19: FutureWarning: The frame.append method is deprecated and will be removed from pandas in a future version. Use pandas.concat instead.\n",
      "  amazon_data = amazon_data.append({\"Date\":[date], \"Open\":[Open], \"High\":[high], \"Low\":[low], \"Close\":[close], \"Adj Close\":[adj_close], \"Volume\":[volume]}, ignore_index=True)\n",
      "C:\\Users\\ZARRAR-SHAH\\AppData\\Local\\Temp\\ipykernel_12096\\4258970918.py:19: FutureWarning: The frame.append method is deprecated and will be removed from pandas in a future version. Use pandas.concat instead.\n",
      "  amazon_data = amazon_data.append({\"Date\":[date], \"Open\":[Open], \"High\":[high], \"Low\":[low], \"Close\":[close], \"Adj Close\":[adj_close], \"Volume\":[volume]}, ignore_index=True)\n",
      "C:\\Users\\ZARRAR-SHAH\\AppData\\Local\\Temp\\ipykernel_12096\\4258970918.py:19: FutureWarning: The frame.append method is deprecated and will be removed from pandas in a future version. Use pandas.concat instead.\n",
      "  amazon_data = amazon_data.append({\"Date\":[date], \"Open\":[Open], \"High\":[high], \"Low\":[low], \"Close\":[close], \"Adj Close\":[adj_close], \"Volume\":[volume]}, ignore_index=True)\n",
      "C:\\Users\\ZARRAR-SHAH\\AppData\\Local\\Temp\\ipykernel_12096\\4258970918.py:19: FutureWarning: The frame.append method is deprecated and will be removed from pandas in a future version. Use pandas.concat instead.\n",
      "  amazon_data = amazon_data.append({\"Date\":[date], \"Open\":[Open], \"High\":[high], \"Low\":[low], \"Close\":[close], \"Adj Close\":[adj_close], \"Volume\":[volume]}, ignore_index=True)\n",
      "C:\\Users\\ZARRAR-SHAH\\AppData\\Local\\Temp\\ipykernel_12096\\4258970918.py:19: FutureWarning: The frame.append method is deprecated and will be removed from pandas in a future version. Use pandas.concat instead.\n",
      "  amazon_data = amazon_data.append({\"Date\":[date], \"Open\":[Open], \"High\":[high], \"Low\":[low], \"Close\":[close], \"Adj Close\":[adj_close], \"Volume\":[volume]}, ignore_index=True)\n",
      "C:\\Users\\ZARRAR-SHAH\\AppData\\Local\\Temp\\ipykernel_12096\\4258970918.py:19: FutureWarning: The frame.append method is deprecated and will be removed from pandas in a future version. Use pandas.concat instead.\n",
      "  amazon_data = amazon_data.append({\"Date\":[date], \"Open\":[Open], \"High\":[high], \"Low\":[low], \"Close\":[close], \"Adj Close\":[adj_close], \"Volume\":[volume]}, ignore_index=True)\n",
      "C:\\Users\\ZARRAR-SHAH\\AppData\\Local\\Temp\\ipykernel_12096\\4258970918.py:19: FutureWarning: The frame.append method is deprecated and will be removed from pandas in a future version. Use pandas.concat instead.\n",
      "  amazon_data = amazon_data.append({\"Date\":[date], \"Open\":[Open], \"High\":[high], \"Low\":[low], \"Close\":[close], \"Adj Close\":[adj_close], \"Volume\":[volume]}, ignore_index=True)\n",
      "C:\\Users\\ZARRAR-SHAH\\AppData\\Local\\Temp\\ipykernel_12096\\4258970918.py:19: FutureWarning: The frame.append method is deprecated and will be removed from pandas in a future version. Use pandas.concat instead.\n",
      "  amazon_data = amazon_data.append({\"Date\":[date], \"Open\":[Open], \"High\":[high], \"Low\":[low], \"Close\":[close], \"Adj Close\":[adj_close], \"Volume\":[volume]}, ignore_index=True)\n",
      "C:\\Users\\ZARRAR-SHAH\\AppData\\Local\\Temp\\ipykernel_12096\\4258970918.py:19: FutureWarning: The frame.append method is deprecated and will be removed from pandas in a future version. Use pandas.concat instead.\n",
      "  amazon_data = amazon_data.append({\"Date\":[date], \"Open\":[Open], \"High\":[high], \"Low\":[low], \"Close\":[close], \"Adj Close\":[adj_close], \"Volume\":[volume]}, ignore_index=True)\n",
      "C:\\Users\\ZARRAR-SHAH\\AppData\\Local\\Temp\\ipykernel_12096\\4258970918.py:19: FutureWarning: The frame.append method is deprecated and will be removed from pandas in a future version. Use pandas.concat instead.\n",
      "  amazon_data = amazon_data.append({\"Date\":[date], \"Open\":[Open], \"High\":[high], \"Low\":[low], \"Close\":[close], \"Adj Close\":[adj_close], \"Volume\":[volume]}, ignore_index=True)\n",
      "C:\\Users\\ZARRAR-SHAH\\AppData\\Local\\Temp\\ipykernel_12096\\4258970918.py:19: FutureWarning: The frame.append method is deprecated and will be removed from pandas in a future version. Use pandas.concat instead.\n",
      "  amazon_data = amazon_data.append({\"Date\":[date], \"Open\":[Open], \"High\":[high], \"Low\":[low], \"Close\":[close], \"Adj Close\":[adj_close], \"Volume\":[volume]}, ignore_index=True)\n",
      "C:\\Users\\ZARRAR-SHAH\\AppData\\Local\\Temp\\ipykernel_12096\\4258970918.py:19: FutureWarning: The frame.append method is deprecated and will be removed from pandas in a future version. Use pandas.concat instead.\n",
      "  amazon_data = amazon_data.append({\"Date\":[date], \"Open\":[Open], \"High\":[high], \"Low\":[low], \"Close\":[close], \"Adj Close\":[adj_close], \"Volume\":[volume]}, ignore_index=True)\n",
      "C:\\Users\\ZARRAR-SHAH\\AppData\\Local\\Temp\\ipykernel_12096\\4258970918.py:19: FutureWarning: The frame.append method is deprecated and will be removed from pandas in a future version. Use pandas.concat instead.\n",
      "  amazon_data = amazon_data.append({\"Date\":[date], \"Open\":[Open], \"High\":[high], \"Low\":[low], \"Close\":[close], \"Adj Close\":[adj_close], \"Volume\":[volume]}, ignore_index=True)\n",
      "C:\\Users\\ZARRAR-SHAH\\AppData\\Local\\Temp\\ipykernel_12096\\4258970918.py:19: FutureWarning: The frame.append method is deprecated and will be removed from pandas in a future version. Use pandas.concat instead.\n",
      "  amazon_data = amazon_data.append({\"Date\":[date], \"Open\":[Open], \"High\":[high], \"Low\":[low], \"Close\":[close], \"Adj Close\":[adj_close], \"Volume\":[volume]}, ignore_index=True)\n"
     ]
    }
   ],
   "source": [
    "import requests\n",
    "from bs4 import BeautifulSoup\n",
    "import pandas as pd\n",
    "html_data = requests.get('https://cf-courses-data.s3.us.cloud-object-storage.appdomain.cloud/IBMDeveloperSkillsNetwork-PY0220EN-SkillsNetwork/labs/project/amazon_data_webpage.html').text\n",
    "soup = BeautifulSoup(html_data)\n",
    "soup.find('title')\n",
    "amazon_data = pd.DataFrame(columns=[\"Date\", \"Open\", \"High\", \"Low\", \"Close\", \"Volume\"])\n",
    "\n",
    "for row in soup.find(\"tbody\").find_all(\"tr\"):\n",
    "    col = row.find_all(\"td\")\n",
    "    date = col[0].text\n",
    "    Open = col[1].text\n",
    "    high = col[2].text\n",
    "    low = col[3].text\n",
    "    close = col[4].text\n",
    "    adj_close = col[5].text\n",
    "    volume = col[6].text\n",
    "    \n",
    "    amazon_data = amazon_data.append({\"Date\":[date], \"Open\":[Open], \"High\":[high], \"Low\":[low], \"Close\":[close], \"Adj Close\":[adj_close], \"Volume\":[volume]}, ignore_index=True)"
   ]
  },
  {
   "cell_type": "code",
   "execution_count": 8,
   "id": "ea187ed8",
   "metadata": {},
   "outputs": [
    {
     "data": {
      "text/html": [
       "<div>\n",
       "<style scoped>\n",
       "    .dataframe tbody tr th:only-of-type {\n",
       "        vertical-align: middle;\n",
       "    }\n",
       "\n",
       "    .dataframe tbody tr th {\n",
       "        vertical-align: top;\n",
       "    }\n",
       "\n",
       "    .dataframe thead th {\n",
       "        text-align: right;\n",
       "    }\n",
       "</style>\n",
       "<table border=\"1\" class=\"dataframe\">\n",
       "  <thead>\n",
       "    <tr style=\"text-align: right;\">\n",
       "      <th></th>\n",
       "      <th>Date</th>\n",
       "      <th>Open</th>\n",
       "      <th>High</th>\n",
       "      <th>Low</th>\n",
       "      <th>Close</th>\n",
       "      <th>Volume</th>\n",
       "      <th>Adj Close</th>\n",
       "    </tr>\n",
       "  </thead>\n",
       "  <tbody>\n",
       "    <tr>\n",
       "      <th>0</th>\n",
       "      <td>[Jan 01, 2021]</td>\n",
       "      <td>[3,270.00]</td>\n",
       "      <td>[3,363.89]</td>\n",
       "      <td>[3,086.00]</td>\n",
       "      <td>[3,206.20]</td>\n",
       "      <td>[71,528,900]</td>\n",
       "      <td>[3,206.20]</td>\n",
       "    </tr>\n",
       "    <tr>\n",
       "      <th>1</th>\n",
       "      <td>[Dec 01, 2020]</td>\n",
       "      <td>[3,188.50]</td>\n",
       "      <td>[3,350.65]</td>\n",
       "      <td>[3,072.82]</td>\n",
       "      <td>[3,256.93]</td>\n",
       "      <td>[77,556,200]</td>\n",
       "      <td>[3,256.93]</td>\n",
       "    </tr>\n",
       "    <tr>\n",
       "      <th>2</th>\n",
       "      <td>[Nov 01, 2020]</td>\n",
       "      <td>[3,061.74]</td>\n",
       "      <td>[3,366.80]</td>\n",
       "      <td>[2,950.12]</td>\n",
       "      <td>[3,168.04]</td>\n",
       "      <td>[90,810,500]</td>\n",
       "      <td>[3,168.04]</td>\n",
       "    </tr>\n",
       "    <tr>\n",
       "      <th>3</th>\n",
       "      <td>[Oct 01, 2020]</td>\n",
       "      <td>[3,208.00]</td>\n",
       "      <td>[3,496.24]</td>\n",
       "      <td>[3,019.00]</td>\n",
       "      <td>[3,036.15]</td>\n",
       "      <td>[116,226,100]</td>\n",
       "      <td>[3,036.15]</td>\n",
       "    </tr>\n",
       "    <tr>\n",
       "      <th>4</th>\n",
       "      <td>[Sep 01, 2020]</td>\n",
       "      <td>[3,489.58]</td>\n",
       "      <td>[3,552.25]</td>\n",
       "      <td>[2,871.00]</td>\n",
       "      <td>[3,148.73]</td>\n",
       "      <td>[115,899,300]</td>\n",
       "      <td>[3,148.73]</td>\n",
       "    </tr>\n",
       "  </tbody>\n",
       "</table>\n",
       "</div>"
      ],
      "text/plain": [
       "             Date        Open        High         Low       Close  \\\n",
       "0  [Jan 01, 2021]  [3,270.00]  [3,363.89]  [3,086.00]  [3,206.20]   \n",
       "1  [Dec 01, 2020]  [3,188.50]  [3,350.65]  [3,072.82]  [3,256.93]   \n",
       "2  [Nov 01, 2020]  [3,061.74]  [3,366.80]  [2,950.12]  [3,168.04]   \n",
       "3  [Oct 01, 2020]  [3,208.00]  [3,496.24]  [3,019.00]  [3,036.15]   \n",
       "4  [Sep 01, 2020]  [3,489.58]  [3,552.25]  [2,871.00]  [3,148.73]   \n",
       "\n",
       "          Volume   Adj Close  \n",
       "0   [71,528,900]  [3,206.20]  \n",
       "1   [77,556,200]  [3,256.93]  \n",
       "2   [90,810,500]  [3,168.04]  \n",
       "3  [116,226,100]  [3,036.15]  \n",
       "4  [115,899,300]  [3,148.73]  "
      ]
     },
     "execution_count": 8,
     "metadata": {},
     "output_type": "execute_result"
    }
   ],
   "source": [
    "amazon_data.head()"
   ]
  },
  {
   "cell_type": "code",
   "execution_count": 9,
   "id": "3dd776bd",
   "metadata": {},
   "outputs": [
    {
     "data": {
      "text/plain": [
       "[<th class=\"Ta(start) W(100px) Fw(400) Py(6px)\" data-reactid=\"36\"><span data-reactid=\"37\">Date</span></th>,\n",
       " <th class=\"Fw(400) Py(6px)\" data-reactid=\"38\"><span data-reactid=\"39\">Open</span></th>,\n",
       " <th class=\"Fw(400) Py(6px)\" data-reactid=\"40\"><span data-reactid=\"41\">High</span></th>,\n",
       " <th class=\"Fw(400) Py(6px)\" data-reactid=\"42\"><span data-reactid=\"43\">Low</span></th>,\n",
       " <th class=\"Fw(400) Py(6px)\" data-reactid=\"44\"><span data-reactid=\"45\">Close*</span></th>,\n",
       " <th class=\"Fw(400) Py(6px)\" data-reactid=\"46\"><span data-reactid=\"47\">Adj Close**</span></th>,\n",
       " <th class=\"Fw(400) Py(6px)\" data-reactid=\"48\"><span data-reactid=\"49\">Volume</span></th>]"
      ]
     },
     "execution_count": 9,
     "metadata": {},
     "output_type": "execute_result"
    }
   ],
   "source": [
    "headings = (soup.find_all('th'))\n",
    "headings"
   ]
  },
  {
   "cell_type": "code",
   "execution_count": 10,
   "id": "99dfd850",
   "metadata": {},
   "outputs": [
    {
     "data": {
      "text/plain": [
       "Date         [Jan 01, 2016]\n",
       "Open               [656.29]\n",
       "High               [657.72]\n",
       "Low                [547.18]\n",
       "Close              [587.00]\n",
       "Volume        [130,200,900]\n",
       "Adj Close          [587.00]\n",
       "Name: 60, dtype: object"
      ]
     },
     "execution_count": 10,
     "metadata": {},
     "output_type": "execute_result"
    }
   ],
   "source": [
    "amazon_data.iloc[-1]"
   ]
  },
  {
   "cell_type": "code",
   "execution_count": 39,
   "id": "ac299396",
   "metadata": {},
   "outputs": [
    {
     "data": {
      "text/html": [
       "<div>\n",
       "<style scoped>\n",
       "    .dataframe tbody tr th:only-of-type {\n",
       "        vertical-align: middle;\n",
       "    }\n",
       "\n",
       "    .dataframe tbody tr th {\n",
       "        vertical-align: top;\n",
       "    }\n",
       "\n",
       "    .dataframe thead th {\n",
       "        text-align: right;\n",
       "    }\n",
       "</style>\n",
       "<table border=\"1\" class=\"dataframe\">\n",
       "  <thead>\n",
       "    <tr style=\"text-align: right;\">\n",
       "      <th></th>\n",
       "      <th>Date</th>\n",
       "      <th>Open</th>\n",
       "      <th>High</th>\n",
       "      <th>Low</th>\n",
       "      <th>Close</th>\n",
       "      <th>Volume</th>\n",
       "      <th>Dividends</th>\n",
       "      <th>Stock Splits</th>\n",
       "    </tr>\n",
       "  </thead>\n",
       "  <tbody>\n",
       "    <tr>\n",
       "      <th>0</th>\n",
       "      <td>2010-06-29 00:00:00-04:00</td>\n",
       "      <td>1.266667</td>\n",
       "      <td>1.666667</td>\n",
       "      <td>1.169333</td>\n",
       "      <td>1.592667</td>\n",
       "      <td>281494500</td>\n",
       "      <td>0.0</td>\n",
       "      <td>0.0</td>\n",
       "    </tr>\n",
       "    <tr>\n",
       "      <th>1</th>\n",
       "      <td>2010-06-30 00:00:00-04:00</td>\n",
       "      <td>1.719333</td>\n",
       "      <td>2.028000</td>\n",
       "      <td>1.553333</td>\n",
       "      <td>1.588667</td>\n",
       "      <td>257806500</td>\n",
       "      <td>0.0</td>\n",
       "      <td>0.0</td>\n",
       "    </tr>\n",
       "    <tr>\n",
       "      <th>2</th>\n",
       "      <td>2010-07-01 00:00:00-04:00</td>\n",
       "      <td>1.666667</td>\n",
       "      <td>1.728000</td>\n",
       "      <td>1.351333</td>\n",
       "      <td>1.464000</td>\n",
       "      <td>123282000</td>\n",
       "      <td>0.0</td>\n",
       "      <td>0.0</td>\n",
       "    </tr>\n",
       "    <tr>\n",
       "      <th>3</th>\n",
       "      <td>2010-07-02 00:00:00-04:00</td>\n",
       "      <td>1.533333</td>\n",
       "      <td>1.540000</td>\n",
       "      <td>1.247333</td>\n",
       "      <td>1.280000</td>\n",
       "      <td>77097000</td>\n",
       "      <td>0.0</td>\n",
       "      <td>0.0</td>\n",
       "    </tr>\n",
       "    <tr>\n",
       "      <th>4</th>\n",
       "      <td>2010-07-06 00:00:00-04:00</td>\n",
       "      <td>1.333333</td>\n",
       "      <td>1.333333</td>\n",
       "      <td>1.055333</td>\n",
       "      <td>1.074000</td>\n",
       "      <td>103003500</td>\n",
       "      <td>0.0</td>\n",
       "      <td>0.0</td>\n",
       "    </tr>\n",
       "  </tbody>\n",
       "</table>\n",
       "</div>"
      ],
      "text/plain": [
       "                       Date      Open      High       Low     Close  \\\n",
       "0 2010-06-29 00:00:00-04:00  1.266667  1.666667  1.169333  1.592667   \n",
       "1 2010-06-30 00:00:00-04:00  1.719333  2.028000  1.553333  1.588667   \n",
       "2 2010-07-01 00:00:00-04:00  1.666667  1.728000  1.351333  1.464000   \n",
       "3 2010-07-02 00:00:00-04:00  1.533333  1.540000  1.247333  1.280000   \n",
       "4 2010-07-06 00:00:00-04:00  1.333333  1.333333  1.055333  1.074000   \n",
       "\n",
       "      Volume  Dividends  Stock Splits  \n",
       "0  281494500        0.0           0.0  \n",
       "1  257806500        0.0           0.0  \n",
       "2  123282000        0.0           0.0  \n",
       "3   77097000        0.0           0.0  \n",
       "4  103003500        0.0           0.0  "
      ]
     },
     "execution_count": 39,
     "metadata": {},
     "output_type": "execute_result"
    }
   ],
   "source": [
    "tsla = yf.Ticker(\"TSLA\")\n",
    "tesla_data = tsla.history(period=\"max\")\n",
    "tesla_data.reset_index(inplace=True)\n",
    "tesla_data.head()"
   ]
  },
  {
   "cell_type": "code",
   "execution_count": null,
   "id": "9b8cc603",
   "metadata": {},
   "outputs": [],
   "source": []
  },
  {
   "cell_type": "code",
   "execution_count": 23,
   "id": "697f511a",
   "metadata": {},
   "outputs": [],
   "source": [
    "tesla_revenue[\"Revenue\"] = tesla_revenue['Revenue'].str.replace(',|\\$',\"\")"
   ]
  },
  {
   "cell_type": "code",
   "execution_count": 97,
   "id": "d76a5081",
   "metadata": {},
   "outputs": [],
   "source": [
    "tesla_revenue.dropna(inplace=True)\n",
    "\n",
    "tesla_revenue = tesla_revenue[tesla_revenue['Revenue'] != \"\"]"
   ]
  },
  {
   "cell_type": "code",
   "execution_count": 98,
   "id": "b0501f3c",
   "metadata": {},
   "outputs": [
    {
     "data": {
      "text/html": [
       "<div>\n",
       "<style scoped>\n",
       "    .dataframe tbody tr th:only-of-type {\n",
       "        vertical-align: middle;\n",
       "    }\n",
       "\n",
       "    .dataframe tbody tr th {\n",
       "        vertical-align: top;\n",
       "    }\n",
       "\n",
       "    .dataframe thead th {\n",
       "        text-align: right;\n",
       "    }\n",
       "</style>\n",
       "<table border=\"1\" class=\"dataframe\">\n",
       "  <thead>\n",
       "    <tr style=\"text-align: right;\">\n",
       "      <th></th>\n",
       "      <th>Date</th>\n",
       "      <th>Revenue</th>\n",
       "    </tr>\n",
       "  </thead>\n",
       "  <tbody>\n",
       "    <tr>\n",
       "      <th>48</th>\n",
       "      <td>2010-09-30</td>\n",
       "      <td>31</td>\n",
       "    </tr>\n",
       "    <tr>\n",
       "      <th>49</th>\n",
       "      <td>2010-06-30</td>\n",
       "      <td>28</td>\n",
       "    </tr>\n",
       "    <tr>\n",
       "      <th>50</th>\n",
       "      <td>2010-03-31</td>\n",
       "      <td>21</td>\n",
       "    </tr>\n",
       "    <tr>\n",
       "      <th>52</th>\n",
       "      <td>2009-09-30</td>\n",
       "      <td>46</td>\n",
       "    </tr>\n",
       "    <tr>\n",
       "      <th>53</th>\n",
       "      <td>2009-06-30</td>\n",
       "      <td>27</td>\n",
       "    </tr>\n",
       "  </tbody>\n",
       "</table>\n",
       "</div>"
      ],
      "text/plain": [
       "          Date Revenue\n",
       "48  2010-09-30      31\n",
       "49  2010-06-30      28\n",
       "50  2010-03-31      21\n",
       "52  2009-09-30      46\n",
       "53  2009-06-30      27"
      ]
     },
     "execution_count": 98,
     "metadata": {},
     "output_type": "execute_result"
    }
   ],
   "source": [
    "tesla_revenue.tail()"
   ]
  },
  {
   "cell_type": "code",
   "execution_count": 22,
   "id": "dda6788b",
   "metadata": {},
   "outputs": [
    {
     "data": {
      "text/html": [
       "<div>\n",
       "<style scoped>\n",
       "    .dataframe tbody tr th:only-of-type {\n",
       "        vertical-align: middle;\n",
       "    }\n",
       "\n",
       "    .dataframe tbody tr th {\n",
       "        vertical-align: top;\n",
       "    }\n",
       "\n",
       "    .dataframe thead th {\n",
       "        text-align: right;\n",
       "    }\n",
       "</style>\n",
       "<table border=\"1\" class=\"dataframe\">\n",
       "  <thead>\n",
       "    <tr style=\"text-align: right;\">\n",
       "      <th></th>\n",
       "      <th>Date</th>\n",
       "      <th>Open</th>\n",
       "      <th>High</th>\n",
       "      <th>Low</th>\n",
       "      <th>Close</th>\n",
       "      <th>Volume</th>\n",
       "      <th>Dividends</th>\n",
       "      <th>Stock Splits</th>\n",
       "    </tr>\n",
       "  </thead>\n",
       "  <tbody>\n",
       "    <tr>\n",
       "      <th>0</th>\n",
       "      <td>2002-02-13 00:00:00-05:00</td>\n",
       "      <td>1.620129</td>\n",
       "      <td>1.693350</td>\n",
       "      <td>1.603296</td>\n",
       "      <td>1.691667</td>\n",
       "      <td>76216000</td>\n",
       "      <td>0.0</td>\n",
       "      <td>0.0</td>\n",
       "    </tr>\n",
       "    <tr>\n",
       "      <th>1</th>\n",
       "      <td>2002-02-14 00:00:00-05:00</td>\n",
       "      <td>1.712708</td>\n",
       "      <td>1.716074</td>\n",
       "      <td>1.670626</td>\n",
       "      <td>1.683251</td>\n",
       "      <td>11021600</td>\n",
       "      <td>0.0</td>\n",
       "      <td>0.0</td>\n",
       "    </tr>\n",
       "    <tr>\n",
       "      <th>2</th>\n",
       "      <td>2002-02-15 00:00:00-05:00</td>\n",
       "      <td>1.683251</td>\n",
       "      <td>1.687459</td>\n",
       "      <td>1.658002</td>\n",
       "      <td>1.674834</td>\n",
       "      <td>8389600</td>\n",
       "      <td>0.0</td>\n",
       "      <td>0.0</td>\n",
       "    </tr>\n",
       "    <tr>\n",
       "      <th>3</th>\n",
       "      <td>2002-02-19 00:00:00-05:00</td>\n",
       "      <td>1.666418</td>\n",
       "      <td>1.666418</td>\n",
       "      <td>1.578048</td>\n",
       "      <td>1.607504</td>\n",
       "      <td>7410400</td>\n",
       "      <td>0.0</td>\n",
       "      <td>0.0</td>\n",
       "    </tr>\n",
       "    <tr>\n",
       "      <th>4</th>\n",
       "      <td>2002-02-20 00:00:00-05:00</td>\n",
       "      <td>1.615921</td>\n",
       "      <td>1.662210</td>\n",
       "      <td>1.603296</td>\n",
       "      <td>1.662210</td>\n",
       "      <td>6892800</td>\n",
       "      <td>0.0</td>\n",
       "      <td>0.0</td>\n",
       "    </tr>\n",
       "  </tbody>\n",
       "</table>\n",
       "</div>"
      ],
      "text/plain": [
       "                       Date      Open      High       Low     Close    Volume  \\\n",
       "0 2002-02-13 00:00:00-05:00  1.620129  1.693350  1.603296  1.691667  76216000   \n",
       "1 2002-02-14 00:00:00-05:00  1.712708  1.716074  1.670626  1.683251  11021600   \n",
       "2 2002-02-15 00:00:00-05:00  1.683251  1.687459  1.658002  1.674834   8389600   \n",
       "3 2002-02-19 00:00:00-05:00  1.666418  1.666418  1.578048  1.607504   7410400   \n",
       "4 2002-02-20 00:00:00-05:00  1.615921  1.662210  1.603296  1.662210   6892800   \n",
       "\n",
       "   Dividends  Stock Splits  \n",
       "0        0.0           0.0  \n",
       "1        0.0           0.0  \n",
       "2        0.0           0.0  \n",
       "3        0.0           0.0  \n",
       "4        0.0           0.0  "
      ]
     },
     "execution_count": 22,
     "metadata": {},
     "output_type": "execute_result"
    }
   ],
   "source": [
    "import yfinance as yf\n",
    "gme = yf.Ticker(\"GME\")\n",
    "gme_data = gme.history(period =\"max\")\n",
    "gme_data.reset_index(inplace=True)\n",
    "gme_data.head()"
   ]
  },
  {
   "cell_type": "raw",
   "id": "aeccc123",
   "metadata": {},
   "source": []
  },
  {
   "cell_type": "code",
   "execution_count": 105,
   "id": "8a27baeb",
   "metadata": {},
   "outputs": [
    {
     "name": "stderr",
     "output_type": "stream",
     "text": [
      "C:\\Users\\ZARRAR-SHAH\\AppData\\Local\\Temp\\ipykernel_12096\\3116236177.py:8: FutureWarning: The frame.append method is deprecated and will be removed from pandas in a future version. Use pandas.concat instead.\n",
      "  gme_revenue = gme_revenue.append({\"Data\": data, \"Revenue\":revenue}, ignore_index = True)\n",
      "C:\\Users\\ZARRAR-SHAH\\AppData\\Local\\Temp\\ipykernel_12096\\3116236177.py:8: FutureWarning: The frame.append method is deprecated and will be removed from pandas in a future version. Use pandas.concat instead.\n",
      "  gme_revenue = gme_revenue.append({\"Data\": data, \"Revenue\":revenue}, ignore_index = True)\n",
      "C:\\Users\\ZARRAR-SHAH\\AppData\\Local\\Temp\\ipykernel_12096\\3116236177.py:8: FutureWarning: The frame.append method is deprecated and will be removed from pandas in a future version. Use pandas.concat instead.\n",
      "  gme_revenue = gme_revenue.append({\"Data\": data, \"Revenue\":revenue}, ignore_index = True)\n",
      "C:\\Users\\ZARRAR-SHAH\\AppData\\Local\\Temp\\ipykernel_12096\\3116236177.py:8: FutureWarning: The frame.append method is deprecated and will be removed from pandas in a future version. Use pandas.concat instead.\n",
      "  gme_revenue = gme_revenue.append({\"Data\": data, \"Revenue\":revenue}, ignore_index = True)\n",
      "C:\\Users\\ZARRAR-SHAH\\AppData\\Local\\Temp\\ipykernel_12096\\3116236177.py:8: FutureWarning: The frame.append method is deprecated and will be removed from pandas in a future version. Use pandas.concat instead.\n",
      "  gme_revenue = gme_revenue.append({\"Data\": data, \"Revenue\":revenue}, ignore_index = True)\n",
      "C:\\Users\\ZARRAR-SHAH\\AppData\\Local\\Temp\\ipykernel_12096\\3116236177.py:8: FutureWarning: The frame.append method is deprecated and will be removed from pandas in a future version. Use pandas.concat instead.\n",
      "  gme_revenue = gme_revenue.append({\"Data\": data, \"Revenue\":revenue}, ignore_index = True)\n",
      "C:\\Users\\ZARRAR-SHAH\\AppData\\Local\\Temp\\ipykernel_12096\\3116236177.py:8: FutureWarning: The frame.append method is deprecated and will be removed from pandas in a future version. Use pandas.concat instead.\n",
      "  gme_revenue = gme_revenue.append({\"Data\": data, \"Revenue\":revenue}, ignore_index = True)\n",
      "C:\\Users\\ZARRAR-SHAH\\AppData\\Local\\Temp\\ipykernel_12096\\3116236177.py:8: FutureWarning: The frame.append method is deprecated and will be removed from pandas in a future version. Use pandas.concat instead.\n",
      "  gme_revenue = gme_revenue.append({\"Data\": data, \"Revenue\":revenue}, ignore_index = True)\n",
      "C:\\Users\\ZARRAR-SHAH\\AppData\\Local\\Temp\\ipykernel_12096\\3116236177.py:8: FutureWarning: The frame.append method is deprecated and will be removed from pandas in a future version. Use pandas.concat instead.\n",
      "  gme_revenue = gme_revenue.append({\"Data\": data, \"Revenue\":revenue}, ignore_index = True)\n",
      "C:\\Users\\ZARRAR-SHAH\\AppData\\Local\\Temp\\ipykernel_12096\\3116236177.py:8: FutureWarning: The frame.append method is deprecated and will be removed from pandas in a future version. Use pandas.concat instead.\n",
      "  gme_revenue = gme_revenue.append({\"Data\": data, \"Revenue\":revenue}, ignore_index = True)\n",
      "C:\\Users\\ZARRAR-SHAH\\AppData\\Local\\Temp\\ipykernel_12096\\3116236177.py:8: FutureWarning: The frame.append method is deprecated and will be removed from pandas in a future version. Use pandas.concat instead.\n",
      "  gme_revenue = gme_revenue.append({\"Data\": data, \"Revenue\":revenue}, ignore_index = True)\n",
      "C:\\Users\\ZARRAR-SHAH\\AppData\\Local\\Temp\\ipykernel_12096\\3116236177.py:8: FutureWarning: The frame.append method is deprecated and will be removed from pandas in a future version. Use pandas.concat instead.\n",
      "  gme_revenue = gme_revenue.append({\"Data\": data, \"Revenue\":revenue}, ignore_index = True)\n",
      "C:\\Users\\ZARRAR-SHAH\\AppData\\Local\\Temp\\ipykernel_12096\\3116236177.py:8: FutureWarning: The frame.append method is deprecated and will be removed from pandas in a future version. Use pandas.concat instead.\n",
      "  gme_revenue = gme_revenue.append({\"Data\": data, \"Revenue\":revenue}, ignore_index = True)\n",
      "C:\\Users\\ZARRAR-SHAH\\AppData\\Local\\Temp\\ipykernel_12096\\3116236177.py:8: FutureWarning: The frame.append method is deprecated and will be removed from pandas in a future version. Use pandas.concat instead.\n",
      "  gme_revenue = gme_revenue.append({\"Data\": data, \"Revenue\":revenue}, ignore_index = True)\n",
      "C:\\Users\\ZARRAR-SHAH\\AppData\\Local\\Temp\\ipykernel_12096\\3116236177.py:8: FutureWarning: The frame.append method is deprecated and will be removed from pandas in a future version. Use pandas.concat instead.\n",
      "  gme_revenue = gme_revenue.append({\"Data\": data, \"Revenue\":revenue}, ignore_index = True)\n",
      "C:\\Users\\ZARRAR-SHAH\\AppData\\Local\\Temp\\ipykernel_12096\\3116236177.py:8: FutureWarning: The frame.append method is deprecated and will be removed from pandas in a future version. Use pandas.concat instead.\n",
      "  gme_revenue = gme_revenue.append({\"Data\": data, \"Revenue\":revenue}, ignore_index = True)\n"
     ]
    }
   ],
   "source": [
    "data = requests.get(\"https://cf-courses-data.s3.us.cloud-object-storage.appdomain.cloud/IBMDeveloperSkillsNetwork-PY0220EN-SkillsNetwork/labs/project/stock.html\").text\n",
    "soup = BeautifulSoup(data)\n",
    "gme_revenue = pd.DataFrame(columns=[\"Data\", \"Revenue\"])\n",
    "for row in soup.find(\"tbody\").find_all(\"tr\"):\n",
    "    col = row.find_all('td')\n",
    "    data = col[0].text\n",
    "    revenue = col[1].text    \n",
    "    gme_revenue = gme_revenue.append({\"Data\": data, \"Revenue\":revenue}, ignore_index = True)"
   ]
  },
  {
   "cell_type": "code",
   "execution_count": 112,
   "id": "ad85dc0b",
   "metadata": {},
   "outputs": [
    {
     "data": {
      "text/html": [
       "<div>\n",
       "<style scoped>\n",
       "    .dataframe tbody tr th:only-of-type {\n",
       "        vertical-align: middle;\n",
       "    }\n",
       "\n",
       "    .dataframe tbody tr th {\n",
       "        vertical-align: top;\n",
       "    }\n",
       "\n",
       "    .dataframe thead th {\n",
       "        text-align: right;\n",
       "    }\n",
       "</style>\n",
       "<table border=\"1\" class=\"dataframe\">\n",
       "  <thead>\n",
       "    <tr style=\"text-align: right;\">\n",
       "      <th></th>\n",
       "      <th>Data</th>\n",
       "      <th>Revenue</th>\n",
       "    </tr>\n",
       "  </thead>\n",
       "  <tbody>\n",
       "    <tr>\n",
       "      <th>11</th>\n",
       "      <td>2009</td>\n",
       "      <td>$8$,$8$0$6$</td>\n",
       "    </tr>\n",
       "    <tr>\n",
       "      <th>12</th>\n",
       "      <td>2008</td>\n",
       "      <td>$7$,$0$9$4$</td>\n",
       "    </tr>\n",
       "    <tr>\n",
       "      <th>13</th>\n",
       "      <td>2007</td>\n",
       "      <td>$5$,$3$1$9$</td>\n",
       "    </tr>\n",
       "    <tr>\n",
       "      <th>14</th>\n",
       "      <td>2006</td>\n",
       "      <td>$3$,$0$9$2$</td>\n",
       "    </tr>\n",
       "    <tr>\n",
       "      <th>15</th>\n",
       "      <td>2005</td>\n",
       "      <td>$1$,$8$4$3$</td>\n",
       "    </tr>\n",
       "  </tbody>\n",
       "</table>\n",
       "</div>"
      ],
      "text/plain": [
       "    Data      Revenue\n",
       "11  2009  $8$,$8$0$6$\n",
       "12  2008  $7$,$0$9$4$\n",
       "13  2007  $5$,$3$1$9$\n",
       "14  2006  $3$,$0$9$2$\n",
       "15  2005  $1$,$8$4$3$"
      ]
     },
     "execution_count": 112,
     "metadata": {},
     "output_type": "execute_result"
    }
   ],
   "source": [
    "gme_revenue.tail()"
   ]
  },
  {
   "cell_type": "code",
   "execution_count": 4,
   "id": "59f9ac82",
   "metadata": {},
   "outputs": [
    {
     "ename": "NameError",
     "evalue": "name 'tesla_data' is not defined",
     "output_type": "error",
     "traceback": [
      "\u001b[1;31m---------------------------------------------------------------------------\u001b[0m",
      "\u001b[1;31mNameError\u001b[0m                                 Traceback (most recent call last)",
      "Cell \u001b[1;32mIn[4], line 1\u001b[0m\n\u001b[1;32m----> 1\u001b[0m tesla_data\n\u001b[0;32m      2\u001b[0m make_graph(tesla_data,tesla_revenue,\u001b[38;5;124m'\u001b[39m\u001b[38;5;124mTesla\u001b[39m\u001b[38;5;124m'\u001b[39m)\n",
      "\u001b[1;31mNameError\u001b[0m: name 'tesla_data' is not defined"
     ]
    }
   ],
   "source": [
    "\n",
    "make_graph(tesla_data,tesla_revenue,'Tesla')"
   ]
  },
  {
   "cell_type": "code",
   "execution_count": 10,
   "id": "dbc7299e",
   "metadata": {},
   "outputs": [
    {
     "ename": "ImportError",
     "evalue": "cannot import name 'Beautifulsoup' from 'bs4' (D:\\Ananaconda\\Lib\\site-packages\\bs4\\__init__.py)",
     "output_type": "error",
     "traceback": [
      "\u001b[1;31m---------------------------------------------------------------------------\u001b[0m",
      "\u001b[1;31mImportError\u001b[0m                               Traceback (most recent call last)",
      "Cell \u001b[1;32mIn[10], line 3\u001b[0m\n\u001b[0;32m      1\u001b[0m \u001b[38;5;28;01mimport\u001b[39;00m \u001b[38;5;21;01mpandas\u001b[39;00m \u001b[38;5;28;01mas\u001b[39;00m \u001b[38;5;21;01mpd\u001b[39;00m\n\u001b[0;32m      2\u001b[0m \u001b[38;5;28;01mimport\u001b[39;00m \u001b[38;5;21;01mrequests\u001b[39;00m\n\u001b[1;32m----> 3\u001b[0m \u001b[38;5;28;01mfrom\u001b[39;00m \u001b[38;5;21;01mbs4\u001b[39;00m \u001b[38;5;28;01mimport\u001b[39;00m Beautifulsoup\n\u001b[0;32m      4\u001b[0m data \u001b[38;5;241m=\u001b[39m requests\u001b[38;5;241m.\u001b[39mget(\u001b[38;5;124m\"\u001b[39m\u001b[38;5;124mhttps://cf-courses-data.s3.us.cloud-object-storage.appdomain.cloud/IBMDeveloperSkillsNetwork-PY0220EN-SkillsNetwork/labs/project/revenue.htm\u001b[39m\u001b[38;5;124m\"\u001b[39m)\u001b[38;5;241m.\u001b[39mtext\n\u001b[0;32m      5\u001b[0m soup \u001b[38;5;241m=\u001b[39m BeautifulSoup(data)\n",
      "\u001b[1;31mImportError\u001b[0m: cannot import name 'Beautifulsoup' from 'bs4' (D:\\Ananaconda\\Lib\\site-packages\\bs4\\__init__.py)"
     ]
    }
   ],
   "source": []
  },
  {
   "cell_type": "code",
   "execution_count": 5,
   "id": "8abf6926",
   "metadata": {},
   "outputs": [
    {
     "ename": "NameError",
     "evalue": "name 'tesla_revenue' is not defined",
     "output_type": "error",
     "traceback": [
      "\u001b[1;31m---------------------------------------------------------------------------\u001b[0m",
      "\u001b[1;31mNameError\u001b[0m                                 Traceback (most recent call last)",
      "Cell \u001b[1;32mIn[5], line 1\u001b[0m\n\u001b[1;32m----> 1\u001b[0m tesla_revenue\u001b[38;5;241m.\u001b[39mhead()\n",
      "\u001b[1;31mNameError\u001b[0m: name 'tesla_revenue' is not defined"
     ]
    }
   ],
   "source": []
  },
  {
   "cell_type": "code",
   "execution_count": null,
   "id": "47f5353b",
   "metadata": {},
   "outputs": [],
   "source": [
    "import pandas as pd\n",
    "import requests\n",
    "from bs4 import BeautifulSoup\n",
    "\n",
    "data = requests.get(\"https://cf-courses-data.s3.us.cloud-object-storage.appdomain.cloud/IBMDeveloperSkillsNetwork-PY0220EN-SkillsNetwork/labs/project/revenue.htm\").text\n",
    "soup = BeautifulSoup(data)\n",
    "tesla_revenue = pd.DataFrame(columns=[\"Date\", \"Revenue\"])\n",
    "\n",
    "for row in soup.find_all('tbody')[1].find_all('tr'):\n",
    "    col = row.find_all('td')\n",
    "    date = col[0].text\n",
    "    revenue = col[1].text\n",
    "    tesla_revenue = tesla_revenue.append({\"Date\":date, \"Revenue\":revenue}, ignore_index = True)"
   ]
  },
  {
   "cell_type": "code",
   "execution_count": null,
   "id": "21733c21",
   "metadata": {},
   "outputs": [],
   "source": [
    "tesla_revenue[\"Revenue\"] = tesla_revenue['Revenue'].str.replace(',\\|$',\"\")\n",
    "tesla_revenue[\"Revenue\"] = tesla_revenue['Revenue'].str.replace(',',\"\")\n",
    "tesla_revenue.dropna(inplace=True)\n",
    "tesla_revenue = tesla_revenue[tesla_revenue['Revenue'] != \"\"]\n",
    "tesla_revenue\n",
    "import yfinance as yf\n",
    "tsla = yf.Ticker(\"TSLA\")\n",
    "tesla_data = tsla.history(period=\"max\")\n",
    "tesla_data.reset_index(inplace=True)\n",
    "tesla_data.head()\n",
    "tesla_revenue.head()"
   ]
  },
  {
   "cell_type": "code",
   "execution_count": null,
   "id": "11470d49",
   "metadata": {},
   "outputs": [],
   "source": [
    "import plotly.graph_objects as go\n",
    "from plotly.subplots import make_subplots\n",
    "make_graph(tesla_data,tesla_revenue,'Tesla')"
   ]
  },
  {
   "cell_type": "code",
   "execution_count": null,
   "id": "3a80f0a0",
   "metadata": {},
   "outputs": [],
   "source": [
    "gme = yf.Ticker(\"GME\")\n",
    "gme_data = gme.history(period =\"max\")\n",
    "gme_data.reset_index(inplace=True)\n",
    "gme_data.head()\n",
    "data = requests.get(\"https://cf-courses-data.s3.us.cloud-object-storage.appdomain.cloud/IBMDeveloperSkillsNetwork-PY0220EN-SkillsNetwork/labs/project/stock.html\").text\n",
    "soup = BeautifulSoup(data)\n",
    "gme_revenue = pd.DataFrame(columns=[\"Data\", \"Revenue\"])\n",
    "for row in soup.find(\"tbody\").find_all(\"tr\"):\n",
    "    col = row.find_all('td')\n",
    "    data = col[0].text\n",
    "    revenue = col[1].text    \n",
    "    gme_revenue = gme_revenue.append({\"Data\": data, \"Revenue\":revenue}, ignore_index = True)"
   ]
  },
  {
   "cell_type": "code",
   "execution_count": null,
   "id": "0c64ad1a",
   "metadata": {},
   "outputs": [],
   "source": [
    "gme_data.reset_index(inplace=True)\n",
    "gme_data.head()"
   ]
  },
  {
   "cell_type": "code",
   "execution_count": null,
   "id": "1349bb03",
   "metadata": {},
   "outputs": [],
   "source": [
    "gme_revenue[\"Revenue\"] = gme_revenue['Revenue'].str.replace('$',\"\")\n",
    "#gme_revenue[\"Revenue\"] = gme_revenue['Revenue'].str.replace(',',\"\")\n",
    "gme_revenue.head()"
   ]
  },
  {
   "cell_type": "code",
   "execution_count": 17,
   "id": "77261955",
   "metadata": {},
   "outputs": [],
   "source": [
    "import plotly.graph_objects as go\n",
    "from plotly.subplots import make_subplots\n",
    "def make_graph(stock_data, revenue_data, stock):\n",
    "    fig = make_subplots(rows=2, cols=1, shared_xaxes=True, subplot_titles=(\"Historical Share Price\", \"Historical Revenue\"), vertical_spacing = .3)\n",
    "    stock_data_specific = stock_data[stock_data.Date <= '2021--06-14']\n",
    "    revenue_data_specific = revenue_data[revenue_data.Date <= '2021-04-30']\n",
    "    fig.add_trace(go.Scatter(x=pd.to_datetime(stock_data_specific.Date, infer_datetime_format=True), y=stock_data_specific.Close.astype(\"float\"), name=\"Share Price\"), row=1, col=1)\n",
    "    fig.add_trace(go.Scatter(x=pd.to_datetime(revenue_data_specific.Date, infer_datetime_format=True), y=revenue_data_specific.Revenue.astype(\"float\"), name=\"Revenue\"), row=2, col=1)\n",
    "    fig.update_xaxes(title_text=\"Date\", row=1, col=1)\n",
    "    fig.update_xaxes(title_text=\"Date\", row=2, col=1)\n",
    "    fig.update_yaxes(title_text=\"Price ($US)\", row=1, col=1)\n",
    "    fig.update_yaxes(title_text=\"Revenue ($US Millions)\", row=2, col=1)\n",
    "    fig.update_layout(showlegend=False,\n",
    "    height=900,\n",
    "    title=stock,\n",
    "    xaxis_rangeslider_visible=True)\n",
    "    fig.show()\n"
   ]
  },
  {
   "cell_type": "code",
   "execution_count": 19,
   "id": "fe4c9b1b",
   "metadata": {},
   "outputs": [
    {
     "ename": "NameError",
     "evalue": "name 'gme_data' is not defined",
     "output_type": "error",
     "traceback": [
      "\u001b[1;31m---------------------------------------------------------------------------\u001b[0m",
      "\u001b[1;31mNameError\u001b[0m                                 Traceback (most recent call last)",
      "Cell \u001b[1;32mIn[19], line 1\u001b[0m\n\u001b[1;32m----> 1\u001b[0m make_graph(gme_data,gme_revenue,\u001b[38;5;124m'\u001b[39m\u001b[38;5;124mGameStop\u001b[39m\u001b[38;5;124m'\u001b[39m)\n",
      "\u001b[1;31mNameError\u001b[0m: name 'gme_data' is not defined"
     ]
    }
   ],
   "source": [
    "       make_graph(gme_data,gme_revenue,'GameStop')"
   ]
  },
  {
   "cell_type": "code",
   "execution_count": null,
   "id": "58dc48ee",
   "metadata": {},
   "outputs": [],
   "source": []
  }
 ],
 "metadata": {
  "kernelspec": {
   "display_name": "Python 3 (ipykernel)",
   "language": "python",
   "name": "python3"
  },
  "language_info": {
   "codemirror_mode": {
    "name": "ipython",
    "version": 3
   },
   "file_extension": ".py",
   "mimetype": "text/x-python",
   "name": "python",
   "nbconvert_exporter": "python",
   "pygments_lexer": "ipython3",
   "version": "3.11.4"
  }
 },
 "nbformat": 4,
 "nbformat_minor": 5
}
